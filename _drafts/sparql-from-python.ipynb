{
 "cells": [
  {
   "cell_type": "markdown",
   "metadata": {},
   "source": [
    "#  SPARQL from Python\n",
    "\n",
    "`SPARQLWrapper` is a simple Python wrapper around a SPARQL service for remote query execution. Not only does it enable us to write more complex queries to extract information from RDF than those exposed through a library like `rdflib`, it can also convert query results into other formats like JSON and CSV!\n",
    "\n",
    "## First, what is SPARQL?\n",
    "\n",
    "SPARQL (\"SPARQL Protocol And RDF Query Language\") is a W3C standard for querying [RDF](https://rebeccabilbro.github.io/rdf-basics/), which allows us to express queries as three-part statements (e.g. texts that are reviews of a particular product):\n",
    "\n",
    "    \"\"\"\n",
    "    PREFIX ...\n",
    "    SELECT ...\n",
    "    WHERE  ...\n",
    "    \"\"\"\n",
    "\n",
    "SPARQL can be used to express queries across diverse data sources, whether the data is stored natively as RDF or viewed as RDF via middleware. SPARQL contains capabilities for querying required and optional graph patterns along with their conjunctions and disjunctions. SPARQL also supports extensible value testing and constraining queries by source RDF graph. The results of SPARQL queries can be results sets or RDF graphs.\n",
    "\n",
    "## `SPARQLWrapper`\n",
    "\n",
    "The Python library `SPARQLWrapper` (which can be installed via `pip`) enables us to use the SPARQL query language to interact with remote or local SPARQL endpoints, such as [DBPedia](http://wiki.dbpedia.org/):"
   ]
  },
  {
   "cell_type": "code",
   "execution_count": 1,
   "metadata": {},
   "outputs": [
    {
     "name": "stdout",
     "output_type": "stream",
     "text": [
      "Capsaicin (/kæpˈseɪ.ᵻsɪn/ (INN); 8-methyl-N-vanillyl-6-nonenamide) is an active component of chili peppers, which are plants belonging to the genus Capsicum. It is an irritant for mammals, including humans, and produces a sensation of burning in any tissue with which it comes into contact. Capsaicin and several related compounds are called capsaicinoids and are produced as secondary metabolites by chili peppers, probably as deterrents against certain mammals and fungi. Pure capsaicin is a volatile, hydrophobic, colorless, odorless, crystalline to waxy compound.\n"
     ]
    }
   ],
   "source": [
    "from SPARQLWrapper import SPARQLWrapper, JSON\n",
    "\n",
    "# Specify the DBPedia endpoint\n",
    "sparql = SPARQLWrapper(\"http://dbpedia.org/sparql\")\n",
    "\n",
    "# Query for the description of \"Capsaicin\", filtered by language \n",
    "sparql.setQuery(\"\"\"\n",
    "    PREFIX rdfs: <http://www.w3.org/2000/01/rdf-schema#>\n",
    "    SELECT ?comment\n",
    "    WHERE { <http://dbpedia.org/resource/Capsaicin> rdfs:comment ?comment \n",
    "    FILTER (LANG(?comment)='en')\n",
    "    }\n",
    "\"\"\")\n",
    "\n",
    "# Convert results to JSON format\n",
    "sparql.setReturnFormat(JSON)\n",
    "result = sparql.query().convert()\n",
    "\n",
    "for hit in result[\"results\"][\"bindings\"]:\n",
    "    print(hit[\"comment\"][\"value\"])"
   ]
  },
  {
   "cell_type": "markdown",
   "metadata": {},
   "source": [
    "We can also use the Wikidata Query Service (WDQS) endpoint to query [Wikidata](https://www.wikidata.org/wiki/Wikidata:Main_Page)."
   ]
  },
  {
   "cell_type": "code",
   "execution_count": 8,
   "metadata": {},
   "outputs": [],
   "source": [
    "sparql = SPARQLWrapper(\"https://query.wikidata.org/sparql\")\n",
    "sparql.setQuery(\"\"\"\n",
    "SELECT ?item ?itemLabel \n",
    "\n",
    "WHERE {\n",
    "  ?item wdt:P279 wd:Q522171.\n",
    "  SERVICE wikibase:label { bd:serviceParam wikibase:language \"[AUTO_LANGUAGE],en\". }\n",
    "}\n",
    "\"\"\")\n",
    "sparql.setReturnFormat(JSON)\n",
    "results = sparql.query().convert()"
   ]
  },
  {
   "cell_type": "markdown",
   "metadata": {},
   "source": [
    "In this case, we can use `pandas` to review the results as a dataframe."
   ]
  },
  {
   "cell_type": "code",
   "execution_count": 10,
   "metadata": {},
   "outputs": [
    {
     "data": {
      "text/html": [
       "<div>\n",
       "<style scoped>\n",
       "    .dataframe tbody tr th:only-of-type {\n",
       "        vertical-align: middle;\n",
       "    }\n",
       "\n",
       "    .dataframe tbody tr th {\n",
       "        vertical-align: top;\n",
       "    }\n",
       "\n",
       "    .dataframe thead th {\n",
       "        text-align: right;\n",
       "    }\n",
       "</style>\n",
       "<table border=\"1\" class=\"dataframe\">\n",
       "  <thead>\n",
       "    <tr style=\"text-align: right;\">\n",
       "      <th></th>\n",
       "      <th>item.value</th>\n",
       "      <th>itemLabel.value</th>\n",
       "    </tr>\n",
       "  </thead>\n",
       "  <tbody>\n",
       "    <tr>\n",
       "      <th>0</th>\n",
       "      <td>http://www.wikidata.org/entity/Q249114</td>\n",
       "      <td>salsa</td>\n",
       "    </tr>\n",
       "    <tr>\n",
       "      <th>1</th>\n",
       "      <td>http://www.wikidata.org/entity/Q335016</td>\n",
       "      <td>Tabasco sauce</td>\n",
       "    </tr>\n",
       "    <tr>\n",
       "      <th>2</th>\n",
       "      <td>http://www.wikidata.org/entity/Q360459</td>\n",
       "      <td>Adobo</td>\n",
       "    </tr>\n",
       "    <tr>\n",
       "      <th>3</th>\n",
       "      <td>http://www.wikidata.org/entity/Q460439</td>\n",
       "      <td>Blair's 16 Million Reserve</td>\n",
       "    </tr>\n",
       "    <tr>\n",
       "      <th>4</th>\n",
       "      <td>http://www.wikidata.org/entity/Q966327</td>\n",
       "      <td>harissa</td>\n",
       "    </tr>\n",
       "    <tr>\n",
       "      <th>5</th>\n",
       "      <td>http://www.wikidata.org/entity/Q1026822</td>\n",
       "      <td>Chili oil</td>\n",
       "    </tr>\n",
       "    <tr>\n",
       "      <th>6</th>\n",
       "      <td>http://www.wikidata.org/entity/Q1392674</td>\n",
       "      <td>sriracha sauce</td>\n",
       "    </tr>\n",
       "    <tr>\n",
       "      <th>7</th>\n",
       "      <td>http://www.wikidata.org/entity/Q2227032</td>\n",
       "      <td>mojo</td>\n",
       "    </tr>\n",
       "    <tr>\n",
       "      <th>8</th>\n",
       "      <td>http://www.wikidata.org/entity/Q2279518</td>\n",
       "      <td>Shito</td>\n",
       "    </tr>\n",
       "    <tr>\n",
       "      <th>9</th>\n",
       "      <td>http://www.wikidata.org/entity/Q2402909</td>\n",
       "      <td>Valentina</td>\n",
       "    </tr>\n",
       "    <tr>\n",
       "      <th>10</th>\n",
       "      <td>http://www.wikidata.org/entity/Q3273096</td>\n",
       "      <td>Doubanjiang</td>\n",
       "    </tr>\n",
       "    <tr>\n",
       "      <th>11</th>\n",
       "      <td>http://www.wikidata.org/entity/Q3474141</td>\n",
       "      <td>sauce samouraï</td>\n",
       "    </tr>\n",
       "    <tr>\n",
       "      <th>12</th>\n",
       "      <td>http://www.wikidata.org/entity/Q3474250</td>\n",
       "      <td>Q3474250</td>\n",
       "    </tr>\n",
       "    <tr>\n",
       "      <th>13</th>\n",
       "      <td>http://www.wikidata.org/entity/Q4922876</td>\n",
       "      <td>Nam phrik</td>\n",
       "    </tr>\n",
       "    <tr>\n",
       "      <th>14</th>\n",
       "      <td>http://www.wikidata.org/entity/Q5104402</td>\n",
       "      <td>Cholula Hot Sauce</td>\n",
       "    </tr>\n",
       "    <tr>\n",
       "      <th>15</th>\n",
       "      <td>http://www.wikidata.org/entity/Q6961170</td>\n",
       "      <td>Nam chim</td>\n",
       "    </tr>\n",
       "    <tr>\n",
       "      <th>16</th>\n",
       "      <td>http://www.wikidata.org/entity/Q16628511</td>\n",
       "      <td>Q16628511</td>\n",
       "    </tr>\n",
       "    <tr>\n",
       "      <th>17</th>\n",
       "      <td>http://www.wikidata.org/entity/Q16642516</td>\n",
       "      <td>Q16642516</td>\n",
       "    </tr>\n",
       "  </tbody>\n",
       "</table>\n",
       "</div>"
      ],
      "text/plain": [
       "                                  item.value             itemLabel.value\n",
       "0     http://www.wikidata.org/entity/Q249114                       salsa\n",
       "1     http://www.wikidata.org/entity/Q335016               Tabasco sauce\n",
       "2     http://www.wikidata.org/entity/Q360459                       Adobo\n",
       "3     http://www.wikidata.org/entity/Q460439  Blair's 16 Million Reserve\n",
       "4     http://www.wikidata.org/entity/Q966327                     harissa\n",
       "5    http://www.wikidata.org/entity/Q1026822                   Chili oil\n",
       "6    http://www.wikidata.org/entity/Q1392674              sriracha sauce\n",
       "7    http://www.wikidata.org/entity/Q2227032                        mojo\n",
       "8    http://www.wikidata.org/entity/Q2279518                       Shito\n",
       "9    http://www.wikidata.org/entity/Q2402909                   Valentina\n",
       "10   http://www.wikidata.org/entity/Q3273096                 Doubanjiang\n",
       "11   http://www.wikidata.org/entity/Q3474141              sauce samouraï\n",
       "12   http://www.wikidata.org/entity/Q3474250                    Q3474250\n",
       "13   http://www.wikidata.org/entity/Q4922876                   Nam phrik\n",
       "14   http://www.wikidata.org/entity/Q5104402           Cholula Hot Sauce\n",
       "15   http://www.wikidata.org/entity/Q6961170                    Nam chim\n",
       "16  http://www.wikidata.org/entity/Q16628511                   Q16628511\n",
       "17  http://www.wikidata.org/entity/Q16642516                   Q16642516"
      ]
     },
     "execution_count": 10,
     "metadata": {},
     "output_type": "execute_result"
    }
   ],
   "source": [
    "import pandas as pd\n",
    "\n",
    "results_df = pd.io.json.json_normalize(results['results']['bindings'])\n",
    "results_df[['item.value', 'itemLabel.value']]"
   ]
  },
  {
   "cell_type": "markdown",
   "metadata": {},
   "source": [
    "Cool site for finding [live SPARQL endpoints](http://sparqles.ai.wu.ac.at/availability)."
   ]
  },
  {
   "cell_type": "code",
   "execution_count": null,
   "metadata": {},
   "outputs": [],
   "source": [
    "# a local RDF file? \n",
    "# Put in a local triple store and point your code to localhost"
   ]
  },
  {
   "cell_type": "code",
   "execution_count": null,
   "metadata": {},
   "outputs": [],
   "source": [
    "# Use `rdflib` to query the rdflib.graph.Graph()\n",
    "\n",
    "filename = \"path/to/fileneme\" #replace with something interesting\n",
    "uri = \"uri_of_interest\" #replace with something interesting\n",
    "\n",
    "import rdflib\n",
    "import rdfextras\n",
    "rdfextras.registerplugins() # so we can Graph.query()\n",
    "\n",
    "g=rdflib.Graph()\n",
    "g.parse(filename)\n",
    "results = g.query(\"\"\"\n",
    "SELECT ?p ?o\n",
    "WHERE {\n",
    "<%s> ?p ?o.\n",
    "}\n",
    "ORDER BY (?p)\n",
    "\"\"\" % uri) #get every predicate and object about the uri\n"
   ]
  }
 ],
 "metadata": {
  "kernelspec": {
   "display_name": "Python 3",
   "language": "python",
   "name": "python3"
  },
  "language_info": {
   "codemirror_mode": {
    "name": "ipython",
    "version": 3
   },
   "file_extension": ".py",
   "mimetype": "text/x-python",
   "name": "python",
   "nbconvert_exporter": "python",
   "pygments_lexer": "ipython3",
   "version": "3.6.5"
  }
 },
 "nbformat": 4,
 "nbformat_minor": 2
}
