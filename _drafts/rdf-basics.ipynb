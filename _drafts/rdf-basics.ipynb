{
 "cells": [
  {
   "cell_type": "markdown",
   "metadata": {},
   "source": [
    "# RDF Basics\n",
    "\n",
    "The Resource Description Framework or RDF is a standard model for data interchange that allows structured and semi-structured data to be shared across different applications. RDF expresses relationships between entities as triples; essentially a graph that links unique URIs via edges that describe their relationship. In this post, we'll use the Python library `rdflib` to build a product data graph and extract information about those individual products.\n",
    "\n",
    "## About the Data\n",
    "The data used in this post can be found [here](http://data.dws.informatik.uni-mannheim.de/structureddata/2014-12/quads/ClassSpecificQuads/schemaorgProduct.nq.sample.txt). It comes from the [Web Data Commons project](http://www.webdatacommons.org/structureddata/2014-12/stats/schema_org_subsets.html), which extracts structured data describing products, people, organizations, places, and events from billions of web pages and make the extracted data available for download. In particular, we will be exploring the subset of the corpus that concerns products and product descriptions. "
   ]
  },
  {
   "cell_type": "code",
   "execution_count": 1,
   "metadata": {},
   "outputs": [
    {
     "data": {
      "text/plain": [
       "'products.nq'"
      ]
     },
     "execution_count": 1,
     "metadata": {},
     "output_type": "execute_result"
    }
   ],
   "source": [
    "import os\n",
    "import requests\n",
    "\n",
    "base_folder = \"data\"\n",
    "products_url = \"http://data.dws.informatik.uni-mannheim.de/structureddata/2014-12/quads/ClassSpecificQuads/schemaorgProduct.nq.sample.txt\"\n",
    "product_path = \"products.nq\"\n",
    "\n",
    "\n",
    "def download_data(dir_path, data_url, data_path):\n",
    "    \"\"\"\n",
    "    Convenience function that uses the requests library to retrieve data\n",
    "    given a url to the dataset and a directory folder on your computer.\n",
    "    \"\"\"\n",
    "    if not os.path.exists(dir_path):\n",
    "        os.mkdir(dir_path)\n",
    "\n",
    "    response = requests.get(data_url)\n",
    "    with open(os.path.join(dir_path, data_path), \"wb\") as f:\n",
    "        f.write(response.content)\n",
    "\n",
    "    return data_path\n",
    "\n",
    "download_data(base_folder, products_url, product_path)"
   ]
  },
  {
   "cell_type": "code",
   "execution_count": null,
   "metadata": {},
   "outputs": [],
   "source": [
    "# Print the first 10 rows"
   ]
  },
  {
   "cell_type": "markdown",
   "metadata": {},
   "source": [
    "### What is RDF?\n",
    "\n",
    "The product data we'll be exploring is represented in RDF (Resource Description Framework) format. RDF is a directed, labeled graph data format for representing information in the Web. Resources are represented as nodes in the graph and identified by unique URIs. Edges represent the named link between two given resources. \n",
    "\n",
    "![rdf data model](https://raw.githubusercontent.com/rebeccabilbro/rebeccabilbro.github.io/master/images/2018-07-02-rdf-graph.png)\n",
    "\n",
    "RDF is an abstract model with several serialization formats that have different encodings. The variant we'll be dealing with is called N-Quad.\n",
    "\n",
    "### What is N-Quads?\n",
    "\n",
    "N-Quads is a line-based, plain text format for encoding an RDF dataset. In the data we'll be looking at, the forth element of each line contains the URL of the webpage from which the data was extracted.\n",
    "\n",
    "In Python, we can use the `rdflib` library (which you can install via `pip`) to build a graph structure from the product data we've downloaded:"
   ]
  },
  {
   "cell_type": "code",
   "execution_count": 2,
   "metadata": {},
   "outputs": [],
   "source": [
    "from rdflib import ConjunctiveGraph\n",
    "\n",
    "def make_graph_from_nquads(input_data):\n",
    "    g = ConjunctiveGraph()\n",
    "    data = open(input_data, \"rb\")\n",
    "    g.parse(data, format=\"nquads\")\n",
    "\n",
    "    return g\n",
    "\n",
    "g = make_graph_from_nquads(os.path.join(base_folder, product_path))"
   ]
  },
  {
   "cell_type": "markdown",
   "metadata": {},
   "source": [
    "Now we can explore the data using classes and methods implemented `rdflib`:\n",
    "\n",
    " - URIRef\n",
    " - BNode\n",
    " - g.subjects()\n",
    " - g.triples()\n"
   ]
  },
  {
   "cell_type": "code",
   "execution_count": 3,
   "metadata": {},
   "outputs": [
    {
     "data": {
      "text/plain": [
       "4983"
      ]
     },
     "execution_count": 3,
     "metadata": {},
     "output_type": "execute_result"
    }
   ],
   "source": [
    "# First, count the nodes\n",
    "len(g)"
   ]
  },
  {
   "cell_type": "code",
   "execution_count": 4,
   "metadata": {},
   "outputs": [
    {
     "data": {
      "text/plain": [
       "216"
      ]
     },
     "execution_count": 4,
     "metadata": {},
     "output_type": "execute_result"
    }
   ],
   "source": [
    "from rdflib import URIRef\n",
    "\n",
    "# get all the unique products\n",
    "product_list = list(set(g.subjects(object=URIRef(\"http://schema.org/Product\"))))\n",
    "len(product_list)"
   ]
  },
  {
   "cell_type": "code",
   "execution_count": 5,
   "metadata": {},
   "outputs": [
    {
     "data": {
      "text/plain": [
       "rdflib.term.BNode('N34274ef79f704df1b2327c5630ca18b1')"
      ]
     },
     "execution_count": 5,
     "metadata": {},
     "output_type": "execute_result"
    }
   ],
   "source": [
    "product_list[0] # `BNode` is a blank node"
   ]
  },
  {
   "cell_type": "code",
   "execution_count": null,
   "metadata": {},
   "outputs": [],
   "source": [
    "# print out the first 10 products"
   ]
  },
  {
   "cell_type": "markdown",
   "metadata": {},
   "source": [
    "Now we'll convert our graph into a dictionary representation, so that each product is represented as a key and the values correspond to the product details contained in the graph. This will allow us to index the documents in a document store like MongoDB or Elasticsearch to enable search in the context of an application."
   ]
  },
  {
   "cell_type": "code",
   "execution_count": 6,
   "metadata": {},
   "outputs": [],
   "source": [
    "uid_data = {\"name\"    : None,\n",
    "            \"image\"   : None,\n",
    "            \"url\"     : None,\n",
    "            \"desc\"    : None,\n",
    "            \"sku\"     : None,\n",
    "            \"review\"  : None,\n",
    "            \"manu\"    : None,\n",
    "            \"reviews\" : None,\n",
    "            \"prod_id\" : None,\n",
    "            \"mod_date\": None,\n",
    "            \"rel_date\": None,\n",
    "            \"brand\"   : None,\n",
    "            \"model\"   : None,\n",
    "            \"offers\"  : None,\n",
    "            \"thumb\"   : None,\n",
    "            \"logo\"    : None,\n",
    "            \"rating\"  : None\n",
    "    }\n",
    "\n",
    "product_dict = dict()\n",
    "\n",
    "for product in product_list:\n",
    "    product_dict[product] = uid_data"
   ]
  },
  {
   "cell_type": "code",
   "execution_count": 7,
   "metadata": {},
   "outputs": [],
   "source": [
    "PRODUCT_FIELDS = {\"name\"    : \"http://schema.org/Product/name\",\n",
    "                  \"image\"   : \"http://schema.org/Product/image\",\n",
    "                  \"url\"     : \"http://schema.org/Product/url\",\n",
    "                  \"desc\"    : \"http://schema.org/Product/description\",\n",
    "                  \"sku\"     : \"http://schema.org/Product/sku\",\n",
    "                  \"review\"  : \"http://schema.org/Product/review\",\n",
    "                  \"manu\"    : \"http://schema.org/Product/manufacturer\",\n",
    "                  \"reviews\" : \"http://schema.org/Product/reviews\",\n",
    "                  \"prod_id\" : \"http://schema.org/Product/productID\",\n",
    "                  \"mod_date\": \"http://schema.org/Product/dateModified\",\n",
    "                  \"rel_date\": \"http://schema.org/Product/releaseDate\",\n",
    "                  \"brand\"   : \"http://schema.org/Product/brand\",\n",
    "                  \"model\"   : \"http://schema.org/Product/model\",\n",
    "                  \"offers\"  : \"http://schema.org/Product/offers\",\n",
    "                  \"thumb\"   : \"http://schema.org/Product/thumbnailUrl\",\n",
    "                  \"logo\"    : \"http://schema.org/Product/logo\",\n",
    "                  \"rating\"  : \"http://schema.org/Product/aggregateRating\",\n",
    "    }"
   ]
  },
  {
   "cell_type": "code",
   "execution_count": 8,
   "metadata": {},
   "outputs": [],
   "source": [
    "for key,val_dict in product_dict.items(): # for each unique product\n",
    "    for product_id, field, details in g.triples( (key, None, None) ): # for each related triple in the graph\n",
    "        for field_type, schema in PRODUCT_FIELDS.items(): # for each possible product field\n",
    "            if str(field) == schema:\n",
    "                val_dict[field_type]= str(details)\n",
    "            \n",
    "    product_dict[key].update(val_dict)"
   ]
  },
  {
   "cell_type": "markdown",
   "metadata": {},
   "source": [
    "## What is SPARQL?\n",
    "\n",
    "The RDF specification defines the syntax and semantics of the SPARQL query language. SPARQL can be used to express queries across diverse data sources, whether the data is stored natively as RDF or viewed as RDF via middleware. SPARQL contains capabilities for querying required and optional graph patterns along with their conjunctions and disjunctions. SPARQL also supports extensible value testing and constraining queries by source RDF graph. The results of SPARQL queries can be results sets or RDF graphs."
   ]
  },
  {
   "cell_type": "code",
   "execution_count": null,
   "metadata": {},
   "outputs": [],
   "source": []
  }
 ],
 "metadata": {
  "kernelspec": {
   "display_name": "Python 3",
   "language": "python",
   "name": "python3"
  },
  "language_info": {
   "codemirror_mode": {
    "name": "ipython",
    "version": 3
   },
   "file_extension": ".py",
   "mimetype": "text/x-python",
   "name": "python",
   "nbconvert_exporter": "python",
   "pygments_lexer": "ipython3",
   "version": "3.6.5"
  }
 },
 "nbformat": 4,
 "nbformat_minor": 2
}
