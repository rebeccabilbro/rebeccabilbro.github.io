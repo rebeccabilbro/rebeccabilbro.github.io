{
 "cells": [
  {
   "cell_type": "code",
   "execution_count": 1,
   "metadata": {},
   "outputs": [],
   "source": [
    "import pprint\n",
    "\n",
    "from sklearn.svm import LinearSVC, NuSVC, SVC\n",
    "from sklearn.datasets import make_classification\n",
    "from sklearn.neighbors import KNeighborsClassifier\n",
    "from sklearn.preprocessing import OneHotEncoder, LabelEncoder\n",
    "from sklearn.linear_model import LogisticRegressionCV, LogisticRegression, SGDClassifier\n",
    "from sklearn.ensemble import BaggingClassifier, ExtraTreesClassifier, RandomForestClassifier\n",
    "\n",
    "from yellowbrick.utils.timer import Timer\n",
    "from yellowbrick.classifier import ClassificationReport"
   ]
  },
  {
   "cell_type": "code",
   "execution_count": 2,
   "metadata": {},
   "outputs": [],
   "source": [
    "# Try them all!\n",
    "# TODO add MLP, new XGBoost\n",
    "\n",
    "models = [\n",
    "    LinearSVC(), \n",
    "    SVC(gamma='auto'), \n",
    "    NuSVC(gamma='auto'),\n",
    "    BaggingClassifier(), \n",
    "    KNeighborsClassifier(), \n",
    "    LogisticRegressionCV(cv=3), \n",
    "    LogisticRegression(solver='lbfgs'), \n",
    "    SGDClassifier(max_iter=100, tol=1e-3), \n",
    "    ExtraTreesClassifier(n_estimators=100), \n",
    "    RandomForestClassifier(n_estimators=100)\n",
    "]"
   ]
  },
  {
   "cell_type": "code",
   "execution_count": 3,
   "metadata": {},
   "outputs": [],
   "source": [
    "# for n in range(8):\n",
    "#     instances = 500*10**n\n",
    "#     for x in range(3):\n",
    "#         features = 5*10**x\n",
    "#         X, y = make_classification(n_samples=instances, n_features=features)\n",
    "\n",
    "        "
   ]
  },
  {
   "cell_type": "code",
   "execution_count": null,
   "metadata": {},
   "outputs": [],
   "source": [
    "# make classification datasets\n",
    "\n",
    "# 500 instances, 5 features\n",
    "X, y = make_classification(n_samples=500, n_features=5)\n",
    "# 500 instances, 50 features\n",
    "# 500 instances, 500 features\n",
    "# 5000 instances, 5 features\n",
    "# 5000 instances, 50 features\n",
    "# 5000 instances, 500 features\n",
    "# 50000 instances, 5 features\n",
    "# 50000 instances, 50 features\n",
    "# 50000 instances, 500 features\n",
    "# 500000 instances, 5 features\n",
    "# 500000 instances, 50 features\n",
    "# 500000 instances, 500 features\n",
    "# 5000000 instances, 5 features\n",
    "# 5000000 instances, 50 features\n",
    "# 5000000 instances, 500 features\n",
    "# 50000000 instances, 5 features\n",
    "# 50000000 instances, 50 features\n",
    "# 50000000 instances, 500 features\n",
    "# 500000000 instances, 5 features\n",
    "# 500000000 instances, 50 features\n",
    "# 500000000 instances, 500 features\n",
    "# 5000000000 instances, 5 features\n",
    "# 5000000000 instances, 50 features\n",
    "# 5000000000 instances, 500 features"
   ]
  },
  {
   "cell_type": "code",
   "execution_count": null,
   "metadata": {},
   "outputs": [],
   "source": [
    "def time_models(X, y, estimators):\n",
    "    \"\"\"\n",
    "    Test various estimators.\n",
    "    \"\"\" \n",
    "    fit_times = dict()\n",
    "    \n",
    "    for estimator in estimators:\n",
    "        \n",
    "        # Use Timer context manager to track fit time\n",
    "        with Timer() as timer:\n",
    "            \n",
    "            # Instantiate the classification model and visualizer\n",
    "            estimator.fit(X, y)  \n",
    "            y_hat = estimator.predict(X)\n",
    "            \n",
    "            # TODO: stop execution if the fit time is greater than 15min\n",
    "\n",
    "        fit_times[estimator.__class__.__name__] = timer.interval\n",
    "        \n",
    "    return fit_times "
   ]
  },
  {
   "cell_type": "code",
   "execution_count": null,
   "metadata": {},
   "outputs": [
    {
     "name": "stdout",
     "output_type": "stream",
     "text": [
      "500 Instances, 5 Features\n",
      "{'BaggingClassifier': 0.013997793197631836,\n",
      " 'ExtraTreesClassifier': 0.06728887557983398,\n",
      " 'KNeighborsClassifier': 0.012450933456420898,\n",
      " 'LinearSVC': 0.003692150115966797,\n",
      " 'LogisticRegression': 0.0018661022186279297,\n",
      " 'LogisticRegressionCV': 0.035315752029418945,\n",
      " 'NuSVC': 0.006707906723022461,\n",
      " 'RandomForestClassifier': 0.08254480361938477,\n",
      " 'SGDClassifier': 0.0013248920440673828,\n",
      " 'SVC': 0.0037508010864257812}\n"
     ]
    },
    {
     "name": "stderr",
     "output_type": "stream",
     "text": [
      "/Library/Frameworks/Python.framework/Versions/3.7/lib/python3.7/site-packages/sklearn/svm/base.py:929: ConvergenceWarning: Liblinear failed to converge, increase the number of iterations.\n",
      "  \"the number of iterations.\", ConvergenceWarning)\n"
     ]
    },
    {
     "name": "stdout",
     "output_type": "stream",
     "text": [
      "500 Instances, 50 Features\n",
      "{'BaggingClassifier': 0.07693982124328613,\n",
      " 'ExtraTreesClassifier': 0.09247803688049316,\n",
      " 'KNeighborsClassifier': 0.026669025421142578,\n",
      " 'LinearSVC': 0.025574207305908203,\n",
      " 'LogisticRegression': 0.0031859874725341797,\n",
      " 'LogisticRegressionCV': 0.08308291435241699,\n",
      " 'NuSVC': 0.02192521095275879,\n",
      " 'RandomForestClassifier': 0.15237998962402344,\n",
      " 'SGDClassifier': 0.0023882389068603516,\n",
      " 'SVC': 0.02039194107055664}\n",
      "500 Instances, 500 Features\n",
      "{'BaggingClassifier': 0.6162397861480713,\n",
      " 'ExtraTreesClassifier': 0.15839815139770508,\n",
      " 'KNeighborsClassifier': 0.18971896171569824,\n",
      " 'LinearSVC': 0.01911616325378418,\n",
      " 'LogisticRegression': 0.007774829864501953,\n",
      " 'LogisticRegressionCV': 0.1060340404510498,\n",
      " 'NuSVC': 0.274137020111084,\n",
      " 'RandomForestClassifier': 0.36962294578552246,\n",
      " 'SGDClassifier': 0.004414796829223633,\n",
      " 'SVC': 0.26242899894714355}\n",
      "5000 Instances, 5 Features\n",
      "{'BaggingClassifier': 0.10015106201171875,\n",
      " 'ExtraTreesClassifier': 0.22339200973510742,\n",
      " 'KNeighborsClassifier': 0.11458396911621094,\n",
      " 'LinearSVC': 0.06003093719482422,\n",
      " 'LogisticRegression': 0.0046520233154296875,\n",
      " 'LogisticRegressionCV': 0.08202719688415527,\n",
      " 'NuSVC': 0.6230740547180176,\n",
      " 'RandomForestClassifier': 0.502263069152832,\n",
      " 'SGDClassifier': 0.005421161651611328,\n",
      " 'SVC': 0.11417269706726074}\n"
     ]
    },
    {
     "name": "stderr",
     "output_type": "stream",
     "text": [
      "/Library/Frameworks/Python.framework/Versions/3.7/lib/python3.7/site-packages/sklearn/svm/base.py:929: ConvergenceWarning: Liblinear failed to converge, increase the number of iterations.\n",
      "  \"the number of iterations.\", ConvergenceWarning)\n"
     ]
    },
    {
     "name": "stdout",
     "output_type": "stream",
     "text": [
      "5000 Instances, 50 Features\n",
      "{'BaggingClassifier': 1.3166677951812744,\n",
      " 'ExtraTreesClassifier': 0.5566577911376953,\n",
      " 'KNeighborsClassifier': 1.7136907577514648,\n",
      " 'LinearSVC': 0.4286210536956787,\n",
      " 'LogisticRegression': 0.0043981075286865234,\n",
      " 'LogisticRegressionCV': 0.0815432071685791,\n",
      " 'NuSVC': 1.866575002670288,\n",
      " 'RandomForestClassifier': 2.0283870697021484,\n",
      " 'SGDClassifier': 0.04179263114929199,\n",
      " 'SVC': 1.2708790302276611}\n"
     ]
    },
    {
     "name": "stderr",
     "output_type": "stream",
     "text": [
      "/Library/Frameworks/Python.framework/Versions/3.7/lib/python3.7/site-packages/sklearn/svm/base.py:929: ConvergenceWarning: Liblinear failed to converge, increase the number of iterations.\n",
      "  \"the number of iterations.\", ConvergenceWarning)\n",
      "/Library/Frameworks/Python.framework/Versions/3.7/lib/python3.7/site-packages/sklearn/linear_model/stochastic_gradient.py:561: ConvergenceWarning: Maximum number of iteration reached before convergence. Consider increasing max_iter to improve the fit.\n",
      "  ConvergenceWarning)\n"
     ]
    },
    {
     "name": "stdout",
     "output_type": "stream",
     "text": [
      "5000 Instances, 500 Features\n",
      "{'BaggingClassifier': 28.349195957183838,\n",
      " 'ExtraTreesClassifier': 1.7987909317016602,\n",
      " 'KNeighborsClassifier': 19.721530199050903,\n",
      " 'LinearSVC': 3.6333279609680176,\n",
      " 'LogisticRegression': 0.033267974853515625,\n",
      " 'LogisticRegressionCV': 0.4466688632965088,\n",
      " 'NuSVC': 20.55934476852417,\n",
      " 'RandomForestClassifier': 8.674499034881592,\n",
      " 'SGDClassifier': 0.38391613960266113,\n",
      " 'SVC': 18.37574815750122}\n"
     ]
    },
    {
     "name": "stderr",
     "output_type": "stream",
     "text": [
      "/Library/Frameworks/Python.framework/Versions/3.7/lib/python3.7/site-packages/sklearn/svm/base.py:929: ConvergenceWarning: Liblinear failed to converge, increase the number of iterations.\n",
      "  \"the number of iterations.\", ConvergenceWarning)\n"
     ]
    },
    {
     "name": "stdout",
     "output_type": "stream",
     "text": [
      "50000 Instances, 5 Features\n",
      "{'BaggingClassifier': 2.2388899326324463,\n",
      " 'ExtraTreesClassifier': 3.6898550987243652,\n",
      " 'KNeighborsClassifier': 1.2156751155853271,\n",
      " 'LinearSVC': 2.207770824432373,\n",
      " 'LogisticRegression': 0.02276301383972168,\n",
      " 'LogisticRegressionCV': 0.3271970748901367,\n",
      " 'NuSVC': 68.04271364212036,\n",
      " 'RandomForestClassifier': 10.067652702331543,\n",
      " 'SGDClassifier': 0.059821128845214844,\n",
      " 'SVC': 29.71822690963745}\n"
     ]
    },
    {
     "name": "stderr",
     "output_type": "stream",
     "text": [
      "/Library/Frameworks/Python.framework/Versions/3.7/lib/python3.7/site-packages/sklearn/svm/base.py:929: ConvergenceWarning: Liblinear failed to converge, increase the number of iterations.\n",
      "  \"the number of iterations.\", ConvergenceWarning)\n"
     ]
    },
    {
     "name": "stdout",
     "output_type": "stream",
     "text": [
      "50000 Instances, 50 Features\n",
      "{'BaggingClassifier': 29.504643201828003,\n",
      " 'ExtraTreesClassifier': 7.222272872924805,\n",
      " 'KNeighborsClassifier': 374.22185587882996,\n",
      " 'LinearSVC': 8.88854193687439,\n",
      " 'LogisticRegression': 0.058763980865478516,\n",
      " 'LogisticRegressionCV': 0.6985459327697754,\n",
      " 'NuSVC': 327.74772596359253,\n",
      " 'RandomForestClassifier': 38.99566125869751,\n",
      " 'SGDClassifier': 0.30802416801452637,\n",
      " 'SVC': 184.66295671463013}\n"
     ]
    },
    {
     "name": "stderr",
     "output_type": "stream",
     "text": [
      "/Library/Frameworks/Python.framework/Versions/3.7/lib/python3.7/site-packages/sklearn/svm/base.py:929: ConvergenceWarning: Liblinear failed to converge, increase the number of iterations.\n",
      "  \"the number of iterations.\", ConvergenceWarning)\n"
     ]
    }
   ],
   "source": [
    "# use on classifiers & get fit time (create time-out if > 10 min)\n",
    "\n",
    "for n in range(3):\n",
    "    instances = 500*10**n\n",
    "    for x in range(3):\n",
    "        features = 5*10**x\n",
    "        X, y = make_classification(n_samples=instances, n_features=features)\n",
    "        fit_times = time_models(X, y, models)\n",
    "        print(\"{} Instances, {} Features\".format(instances, features))\n",
    "        pprint.pprint(fit_times)"
   ]
  },
  {
   "cell_type": "code",
   "execution_count": null,
   "metadata": {},
   "outputs": [],
   "source": [
    "# use on YB visualizers & get fit time (create time-out if > 10 min)\n"
   ]
  }
 ],
 "metadata": {
  "kernelspec": {
   "display_name": "Python 3",
   "language": "python",
   "name": "python3"
  },
  "language_info": {
   "codemirror_mode": {
    "name": "ipython",
    "version": 3
   },
   "file_extension": ".py",
   "mimetype": "text/x-python",
   "name": "python",
   "nbconvert_exporter": "python",
   "pygments_lexer": "ipython3",
   "version": "3.7.1"
  }
 },
 "nbformat": 4,
 "nbformat_minor": 2
}
