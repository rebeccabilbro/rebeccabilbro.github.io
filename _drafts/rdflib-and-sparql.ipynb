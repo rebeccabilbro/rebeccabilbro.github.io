{
 "cells": [
  {
   "cell_type": "markdown",
   "metadata": {},
   "source": [
    "# SPARQL Queries for Local RDF Data\n",
    "\n",
    "So you found some RDF data (yay!) from an archive somewhere, but there's no active SPARQL endpoint (it's all JSON APIs these days). You could use the methods implemented in the Python package `rdflib` to perform some lightweight searches of the triples, but what if you want to perform more complex queries without having to create a local triple store? In this post we'll see how to use the declarative language of SPARQL to perform complex queries on a local RDF file (inspired by [this Stackoverflow post](https://stackoverflow.com/questions/9877989/python-sparql-querying-local-file))? \n",
    "\n",
    "_Note: If you want to follow along at home, check out the post on [RDF basics](https://rebeccabilbro.github.io/rdf-basics/) to find out how to get the [data](http://data.dws.informatik.uni-mannheim.de/structureddata/2014-12/quads/ClassSpecificQuads/schemaorgProduct.nq.sample.txt) used in this post, where it comes from, and what it's all about._\n",
    "\n",
    "## Make a `ConjunctiveGraph`\n",
    "\n",
    "First, make sure you have `pip` installed `rdflib`. Now make a `ConjunctiveGraph` from the data. Here we specify that the data should be parsed as nquads, since that's the form that this specific dataset takes."
   ]
  },
  {
   "cell_type": "code",
   "execution_count": 21,
   "metadata": {},
   "outputs": [],
   "source": [
    "import os\n",
    "\n",
    "from rdflib import ConjunctiveGraph\n",
    "\n",
    "base_folder = \"data\"\n",
    "product_path = \"products.nq\"\n",
    "\n",
    "\n",
    "def make_graph_from_nquads(input_data):\n",
    "    g = ConjunctiveGraph(identifier=\"Products\")\n",
    "    data = open(input_data, \"rb\")\n",
    "    g.parse(data, format=\"nquads\")\n",
    "\n",
    "    return g\n",
    "\n",
    "g = make_graph_from_nquads(os.path.join(base_folder, product_path))"
   ]
  },
  {
   "cell_type": "markdown",
   "metadata": {},
   "source": [
    "## Query the `rdflib.graph.Graph()`\n",
    "\n",
    "Now that we have a graph, `rdflib` exposes a `Graph.query` module that we can use to pass in SPARQL queries, e.g. to count the number of unique products in the dataset:"
   ]
  },
  {
   "cell_type": "code",
   "execution_count": 55,
   "metadata": {},
   "outputs": [
    {
     "name": "stdout",
     "output_type": "stream",
     "text": [
      "216 total products\n",
      "URI of first product: (rdflib.term.BNode('N1715bb0ff467414298f80cacc323fa28'),)\n"
     ]
    }
   ],
   "source": [
    "from rdflib import URIRef \n",
    "\n",
    "product_uri = URIRef(\"http://schema.org/Product\")\n",
    "\n",
    "sparql_query = \"\"\"\n",
    "    SELECT ?s\n",
    "    WHERE {\n",
    "    ?s ?p ?o .\n",
    "    }\n",
    "    \"\"\"\n",
    "\n",
    "products = g.query(sparql_query, initBindings={'o' : product_uri})\n",
    "print(\"{} total products\".format(len(products)))\n",
    "print(\"URI of first product: {}\".format(list(products)[0]))"
   ]
  },
  {
   "cell_type": "markdown",
   "metadata": {},
   "source": [
    "We can also dig in and explore a bit more about a particular product using it's blank node URI:"
   ]
  },
  {
   "cell_type": "code",
   "execution_count": 56,
   "metadata": {},
   "outputs": [
    {
     "name": "stdout",
     "output_type": "stream",
     "text": [
      "(rdflib.term.URIRef('http://schema.org/Product/name'), rdflib.term.Literal('sandcastle1'))\n",
      "(rdflib.term.URIRef('http://schema.org/Product/image'), rdflib.term.URIRef('http://cubify.blob.core.windows.net/account/QHUHU2JGQ9/GOUAOFHO5W/cb863880-2a9e-457b-ae6d-574d9b46e49f_e719dda8-c96b-4242-bccb-bfa5c28e061c_08fb68af-884d-4b5f-89f3-89'))\n",
      "(rdflib.term.URIRef('http://schema.org/Product/description'), rdflib.term.Literal('Check out sandcastle1 on Cubify at http://cubify.com/Store/Design/AL98QAW7QL #getthereeasy'))\n",
      "(rdflib.term.URIRef('http://www.w3.org/1999/02/22-rdf-syntax-ns#type'), rdflib.term.URIRef('http://schema.org/Product'))\n"
     ]
    }
   ],
   "source": [
    "sample_product = BNode('N5ff6dab3a3ec40b4a040220b8f2effbe')\n",
    "\n",
    "sparql_query = \"\"\"\n",
    "    SELECT ?p ?o\n",
    "    WHERE {\n",
    "    ?s ?p ?o .\n",
    "    }\n",
    "    \"\"\"\n",
    "\n",
    "results = g.query(sparql_query, initBindings={'s' : sample_product})\n",
    "for result in results:\n",
    "    print(result)"
   ]
  },
  {
   "cell_type": "markdown",
   "metadata": {},
   "source": [
    "This tells that the product has some additional information, including a name (\"sandcastle1\"), a description (\"Check out sandcastle1 on Cubify at http://cubify.com/Store/Design/AL98QAW7QL #getthereeasy\"), and an image:\n",
    "\n",
    "![sandcastle1 image](http://cubify.blob.core.windows.net/account/QHUHU2JGQ9/GOUAOFHO5W/cb863880-2a9e-457b-ae6d-574d9b46e49f_e719dda8-c96b-4242-bccb-bfa5c28e061c_08fb68af-884d-4b5f-89f3-89)\n"
   ]
  },
  {
   "cell_type": "code",
   "execution_count": null,
   "metadata": {},
   "outputs": [],
   "source": [
    "PRODUCT_FIELDS = {\"name\"    : \"http://schema.org/Product/name\",\n",
    "                  \"image\"   : \"http://schema.org/Product/image\",\n",
    "                  \"url\"     : \"http://schema.org/Product/url\",\n",
    "                  \"desc\"    : \"http://schema.org/Product/description\",\n",
    "                  \"sku\"     : \"http://schema.org/Product/sku\",\n",
    "                  \"review\"  : \"http://schema.org/Product/review\",\n",
    "                  \"manu\"    : \"http://schema.org/Product/manufacturer\",\n",
    "                  \"reviews\" : \"http://schema.org/Product/reviews\",\n",
    "                  \"prod_id\" : \"http://schema.org/Product/productID\",\n",
    "                  \"mod_date\": \"http://schema.org/Product/dateModified\",\n",
    "                  \"rel_date\": \"http://schema.org/Product/releaseDate\",\n",
    "                  \"brand\"   : \"http://schema.org/Product/brand\",\n",
    "                  \"model\"   : \"http://schema.org/Product/model\",\n",
    "                  \"offers\"  : \"http://schema.org/Product/offers\",\n",
    "                  \"thumb\"   : \"http://schema.org/Product/thumbnailUrl\",\n",
    "                  \"logo\"    : \"http://schema.org/Product/logo\",\n",
    "                  \"rating\"  : \"http://schema.org/Product/aggregateRating\",\n",
    "    }"
   ]
  }
 ],
 "metadata": {
  "kernelspec": {
   "display_name": "Python 3",
   "language": "python",
   "name": "python3"
  },
  "language_info": {
   "codemirror_mode": {
    "name": "ipython",
    "version": 3
   },
   "file_extension": ".py",
   "mimetype": "text/x-python",
   "name": "python",
   "nbconvert_exporter": "python",
   "pygments_lexer": "ipython3",
   "version": "3.6.5"
  }
 },
 "nbformat": 4,
 "nbformat_minor": 2
}
