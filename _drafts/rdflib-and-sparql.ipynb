{
 "cells": [
  {
   "cell_type": "code",
   "execution_count": null,
   "metadata": {},
   "outputs": [],
   "source": [
    "# a local RDF file? \n",
    "# Put in a local triple store and point your code to localhost"
   ]
  },
  {
   "cell_type": "code",
   "execution_count": null,
   "metadata": {},
   "outputs": [],
   "source": [
    "# Use `rdflib` to query the rdflib.graph.Graph()\n",
    "\n",
    "filename = \"path/to/fileneme\" #replace with something interesting\n",
    "uri = \"uri_of_interest\" #replace with something interesting\n",
    "\n",
    "import rdflib\n",
    "import rdfextras\n",
    "rdfextras.registerplugins() # so we can Graph.query()\n",
    "\n",
    "g=rdflib.Graph()\n",
    "g.parse(filename)\n",
    "results = g.query(\"\"\"\n",
    "SELECT ?p ?o\n",
    "WHERE {\n",
    "<%s> ?p ?o.\n",
    "}\n",
    "ORDER BY (?p)\n",
    "\"\"\" % uri) #get every predicate and object about the uri\n"
   ]
  }
 ],
 "metadata": {
  "kernelspec": {
   "display_name": "Python 3",
   "language": "python",
   "name": "python3"
  },
  "language_info": {
   "codemirror_mode": {
    "name": "ipython",
    "version": 3
   },
   "file_extension": ".py",
   "mimetype": "text/x-python",
   "name": "python",
   "nbconvert_exporter": "python",
   "pygments_lexer": "ipython3",
   "version": "3.6.5"
  }
 },
 "nbformat": 4,
 "nbformat_minor": 2
}
